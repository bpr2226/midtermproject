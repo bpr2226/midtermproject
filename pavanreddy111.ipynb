{
 "cells": [
  {
   "cell_type": "code",
   "execution_count": 1,
   "id": "f53895ef",
   "metadata": {},
   "outputs": [],
   "source": [
    "mkdir model\n"
   ]
  },
  {
   "cell_type": "code",
   "execution_count": 7,
   "id": "8434ab82",
   "metadata": {},
   "outputs": [
    {
     "name": "stdout",
     "output_type": "stream",
     "text": [
      "Requirement already satisfied: torch in /home/ec2-user/anaconda3/envs/pytorch_p310/lib/python3.10/site-packages (2.1.0)\n",
      "Requirement already satisfied: filelock in /home/ec2-user/anaconda3/envs/pytorch_p310/lib/python3.10/site-packages (from torch) (3.13.1)\n",
      "Requirement already satisfied: typing-extensions in /home/ec2-user/anaconda3/envs/pytorch_p310/lib/python3.10/site-packages (from torch) (4.9.0)\n",
      "Requirement already satisfied: sympy in /home/ec2-user/anaconda3/envs/pytorch_p310/lib/python3.10/site-packages (from torch) (1.12)\n",
      "Requirement already satisfied: networkx in /home/ec2-user/anaconda3/envs/pytorch_p310/lib/python3.10/site-packages (from torch) (3.2.1)\n",
      "Requirement already satisfied: jinja2 in /home/ec2-user/anaconda3/envs/pytorch_p310/lib/python3.10/site-packages (from torch) (3.1.3)\n",
      "Requirement already satisfied: fsspec in /home/ec2-user/anaconda3/envs/pytorch_p310/lib/python3.10/site-packages (from torch) (2023.12.2)\n",
      "Requirement already satisfied: MarkupSafe>=2.0 in /home/ec2-user/anaconda3/envs/pytorch_p310/lib/python3.10/site-packages (from jinja2->torch) (2.1.4)\n",
      "Requirement already satisfied: mpmath>=0.19 in /home/ec2-user/anaconda3/envs/pytorch_p310/lib/python3.10/site-packages (from sympy->torch) (1.3.0)\n",
      "Note: you may need to restart the kernel to use updated packages.\n"
     ]
    }
   ],
   "source": [
    "pip install torch"
   ]
  },
  {
   "cell_type": "code",
   "execution_count": 8,
   "id": "2f8b78ef",
   "metadata": {},
   "outputs": [
    {
     "ename": "NameError",
     "evalue": "name 'model' is not defined",
     "output_type": "error",
     "traceback": [
      "\u001b[0;31m---------------------------------------------------------------------------\u001b[0m",
      "\u001b[0;31mNameError\u001b[0m                                 Traceback (most recent call last)",
      "Cell \u001b[0;32mIn[8], line 3\u001b[0m\n\u001b[1;32m      1\u001b[0m \u001b[38;5;66;03m# Example: Saving a PyTorch model\u001b[39;00m\n\u001b[1;32m      2\u001b[0m \u001b[38;5;28;01mimport\u001b[39;00m \u001b[38;5;21;01mtorch\u001b[39;00m\n\u001b[0;32m----> 3\u001b[0m torch\u001b[38;5;241m.\u001b[39msave(\u001b[43mmodel\u001b[49m\u001b[38;5;241m.\u001b[39mstate_dict(), \u001b[38;5;124m'\u001b[39m\u001b[38;5;124mpytorch_model.pth\u001b[39m\u001b[38;5;124m'\u001b[39m)\n",
      "\u001b[0;31mNameError\u001b[0m: name 'model' is not defined"
     ]
    }
   ],
   "source": [
    "# Example: Saving a PyTorch model\n",
    "import torch\n",
    "torch.save(model.state_dict(), 'model_epoch.pt')\n"
   ]
  },
  {
   "cell_type": "code",
   "execution_count": 11,
   "id": "365515dc",
   "metadata": {},
   "outputs": [],
   "source": [
    "import tarfile\n",
    "import boto3\n",
    "import os\n",
    "\n",
    "# Download the file from S3\n",
    "s3_bucket = 'midtermproject-2'\n",
    "s3_key = 'model_epoch_10.pt'\n",
    "local_file_path = 'model_epoch_10.pt'\n",
    "\n",
    "s3_client = boto3.client('s3')\n",
    "s3_client.download_file(s3_bucket, s3_key, local_file_path)\n",
    "\n",
    "# Create a tar.gz archive\n",
    "with tarfile.open('model_epoch.tar.gz', 'w:gz') as f:\n",
    "    f.add(local_file_path)\n",
    "\n",
    "# Cleanup: Remove the downloaded file\n",
    "os.remove(local_file_path)\n"
   ]
  },
  {
   "cell_type": "code",
   "execution_count": 15,
   "id": "d95db2d1",
   "metadata": {},
   "outputs": [],
   "source": [
    "import boto3\n",
    "\n",
    "# Create an S3 client\n",
    "s3 = boto3.client('s3')\n",
    "s3.upload_file('model_epoch.tar.gz', 'midtermproject-2', 'model_epoch.tar.gz')\n"
   ]
  },
  {
   "cell_type": "code",
   "execution_count": 17,
   "id": "63519046",
   "metadata": {},
   "outputs": [],
   "source": [
    "import torch\n",
    "import torch.nn as nn\n",
    "from torchvision import models, transforms\n",
    "import io\n",
    "import boto3\n",
    "import json\n",
    "from PIL import Image\n",
    "import tarfile\n",
    "\n",
    "# Load the model\n",
    "model = models.resnet50(pretrained=False)\n",
    "num_classes = 10  # Example: Modify based on your model architecture\n",
    "model.fc = nn.Linear(2048, num_classes)  # Example: Modify based on your model architecture\n",
    "\n",
    "def transform_image(image_bytes):\n",
    "    transform = transforms.Compose([\n",
    "        transforms.Resize(256),\n",
    "        transforms.CenterCrop(224),\n",
    "        transforms.ToTensor(),\n",
    "        transforms.Normalize(mean=[0.485, 0.456, 0.406], std=[0.229, 0.224, 0.225]),\n",
    "    ])\n",
    "    image = Image.open(io.BytesIO(image_bytes))\n",
    "    return transform(image).unsqueeze(0)\n",
    "\n",
    "def predict_fn(input_data, model):\n",
    "    with torch.no_grad():\n",
    "        input_tensor = transform_image(input_data)\n",
    "        output = model(input_tensor)\n",
    "        return output.numpy().tolist()\n",
    "\n",
    "def model_fn(model_dir):\n",
    "    with tarfile.open(f'{model_dir}/model_epoch.tar.gz', 'r:gz') as tar:\n",
    "        tar.extractall()\n",
    "    model.load_state_dict(torch.load('pytorch_model.pth', map_location=torch.device('cpu')))\n",
    "    model.eval()\n",
    "    return model\n",
    "\n",
    "# Endpoint handler\n",
    "def predict(event, context):\n",
    "    try:\n",
    "        request_body = json.loads(event['body'])\n",
    "        input_data = request_body['data']\n",
    "        prediction = predict_fn(input_data, model)\n",
    "        return {\n",
    "            'statusCode': 200,\n",
    "            'body': json.dumps(prediction)\n",
    "        }\n",
    "    except Exception as e:\n",
    "        return {\n",
    "            'statusCode': 500,\n",
    "            'body': json.dumps(str(e))\n",
    "        }\n",
    "\n",
    "# Upload the model file to S3\n",
    "s3 = boto3.client('s3')\n",
    "s3.upload_file('model_epoch.tar.gz', 'midtermproject-2', 'model_epoch.tar.gz')\n"
   ]
  },
  {
   "cell_type": "code",
   "execution_count": 20,
   "id": "340a4a76",
   "metadata": {},
   "outputs": [],
   "source": [
    "import sagemaker\n",
    "\n",
    "# Define the IAM role\n",
    "role = sagemaker.get_execution_role()\n"
   ]
  },
  {
   "cell_type": "code",
   "execution_count": 21,
   "id": "3dbaf7b0",
   "metadata": {},
   "outputs": [],
   "source": [
    "role = 'arn:aws:iam::533267305253:role/LabRole'\n"
   ]
  },
  {
   "cell_type": "code",
   "execution_count": null,
   "id": "d5b09972",
   "metadata": {},
   "outputs": [
    {
     "name": "stdout",
     "output_type": "stream",
     "text": [
      "---"
     ]
    }
   ],
   "source": [
    "import sagemaker\n",
    "\n",
    "# Define the IAM role\n",
    "role = sagemaker.get_execution_role()\n",
    "\n",
    "from sagemaker.pytorch import PyTorchModel\n",
    "\n",
    "# Upload the model archive to S3\n",
    "s3.upload_file('model_epoch.tar.gz', 'midtermproject-2', 'model_epoch.tar.gz')\n",
    "\n",
    "# Create a PyTorchModel with framework_version and py_version specified\n",
    "pytorch_model = PyTorchModel(model_data='s3://midtermproject-2/model_epoch.tar.gz',\n",
    "                             role=role,\n",
    "                             framework_version='1.8.1',\n",
    "                             py_version='py3')\n",
    "\n",
    "# Deploy the model\n",
    "predictor = pytorch_model.deploy(instance_type='ml.t2.medium', initial_instance_count=1)\n"
   ]
  },
  {
   "cell_type": "code",
   "execution_count": null,
   "id": "432cf636",
   "metadata": {},
   "outputs": [],
   "source": []
  }
 ],
 "metadata": {
  "kernelspec": {
   "display_name": "conda_pytorch_p310",
   "language": "python",
   "name": "conda_pytorch_p310"
  },
  "language_info": {
   "codemirror_mode": {
    "name": "ipython",
    "version": 3
   },
   "file_extension": ".py",
   "mimetype": "text/x-python",
   "name": "python",
   "nbconvert_exporter": "python",
   "pygments_lexer": "ipython3",
   "version": "3.10.13"
  }
 },
 "nbformat": 4,
 "nbformat_minor": 5
}
